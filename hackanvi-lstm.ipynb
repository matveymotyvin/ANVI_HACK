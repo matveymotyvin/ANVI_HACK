{
 "cells": [
  {
   "cell_type": "code",
   "execution_count": 1,
   "id": "541ceb85",
   "metadata": {
    "execution": {
     "iopub.execute_input": "2023-01-20T21:14:49.697544Z",
     "iopub.status.busy": "2023-01-20T21:14:49.697088Z",
     "iopub.status.idle": "2023-01-20T21:14:52.249191Z",
     "shell.execute_reply": "2023-01-20T21:14:52.248174Z"
    },
    "papermill": {
     "duration": 2.564053,
     "end_time": "2023-01-20T21:14:52.252058",
     "exception": false,
     "start_time": "2023-01-20T21:14:49.688005",
     "status": "completed"
    },
    "tags": []
   },
   "outputs": [],
   "source": [
    "import torch \n",
    "import itertools\n",
    "import numpy as np\n",
    "import random\n",
    "import scipy as sp\n",
    "from scipy import signal\n",
    "from torch import nn \n",
    "from torch.autograd import Variable \n",
    "from tqdm import trange\n",
    "device = torch.device('cuda' if torch.cuda.is_available() else 'cpu')"
   ]
  },
  {
   "cell_type": "code",
   "execution_count": 2,
   "id": "01a3f212",
   "metadata": {
    "execution": {
     "iopub.execute_input": "2023-01-20T21:14:52.266260Z",
     "iopub.status.busy": "2023-01-20T21:14:52.265770Z",
     "iopub.status.idle": "2023-01-20T21:14:52.274152Z",
     "shell.execute_reply": "2023-01-20T21:14:52.273240Z"
    },
    "papermill": {
     "duration": 0.018026,
     "end_time": "2023-01-20T21:14:52.276636",
     "exception": false,
     "start_time": "2023-01-20T21:14:52.258610",
     "status": "completed"
    },
    "tags": []
   },
   "outputs": [],
   "source": [
    "def filteremg1(time, emg, low_pass=5, sfreq=400, high_band=10, low_band=180):\n",
    "    \"\"\"\n",
    "    time: Time data\n",
    "    emg: EMG data\n",
    "    high: high-pass cut off frequency\n",
    "    low: low-pass cut off frequency\n",
    "    sfreq: sampling frequency\n",
    "    \"\"\"\n",
    "    \n",
    "    # normalise cut-off frequencies to sampling frequency\n",
    "    high_band = high_band/(sfreq/2)\n",
    "    low_band = low_band/(sfreq/2)\n",
    "    \n",
    "    # create bandpass filter for EMG\n",
    "    b1, a1 = sp.signal.butter(4, [high_band,low_band], btype='bandpass')\n",
    "    \n",
    "    # process EMG signal: filter EMG\n",
    "    emg_filtered = sp.signal.filtfilt(b1, a1, emg)    \n",
    "    \n",
    "    # process EMG signal: rectify\n",
    "    emg_rectified = abs(emg_filtered)\n",
    "    \n",
    "    # create lowpass filter and apply to rectified signal to get EMG envelope\n",
    "    low_pass = low_pass/(sfreq/2)\n",
    "    b2, a2 = sp.signal.butter(4, low_pass, btype='lowpass')\n",
    "    emg_envelope = sp.signal.filtfilt(b2, a2, emg_rectified)\n",
    "    return emg_envelope"
   ]
  },
  {
   "cell_type": "code",
   "execution_count": 3,
   "id": "1912335b",
   "metadata": {
    "execution": {
     "iopub.execute_input": "2023-01-20T21:14:52.290977Z",
     "iopub.status.busy": "2023-01-20T21:14:52.290661Z",
     "iopub.status.idle": "2023-01-20T21:15:12.685384Z",
     "shell.execute_reply": "2023-01-20T21:15:12.683822Z"
    },
    "papermill": {
     "duration": 20.404311,
     "end_time": "2023-01-20T21:15:12.687546",
     "exception": false,
     "start_time": "2023-01-20T21:14:52.283235",
     "status": "completed"
    },
    "tags": []
   },
   "outputs": [
    {
     "name": "stderr",
     "output_type": "stream",
     "text": [
      "100%|██████████| 58/58 [00:20<00:00,  2.85it/s]\n"
     ]
    }
   ],
   "source": [
    "full_array_data_myo = []\n",
    "full_array_data_vr = []\n",
    "full_array_data_ts = []\n",
    "for num_file in trange(0, 58):\n",
    "    if num_file < 10:\n",
    "        num_file = '0' + str(num_file)\n",
    "    else:\n",
    "        num_file = str(num_file)\n",
    "    b = np.load(f'/kaggle/input/alvi-hack-2023/data_train/{num_file}.npz')\n",
    "    for num in b['data_myo']:\n",
    "        full_array_data_myo.append(num)\n",
    "    for num in b['data_vr']:\n",
    "        num = list(itertools.chain.from_iterable(num))\n",
    "        full_array_data_vr.append(num)\n",
    "    for num in b['myo_ts'][600:]:\n",
    "        full_array_data_ts.append(num)"
   ]
  },
  {
   "cell_type": "code",
   "execution_count": 4,
   "id": "ccc7485a",
   "metadata": {
    "execution": {
     "iopub.execute_input": "2023-01-20T21:15:12.707440Z",
     "iopub.status.busy": "2023-01-20T21:15:12.707150Z",
     "iopub.status.idle": "2023-01-20T21:15:21.200133Z",
     "shell.execute_reply": "2023-01-20T21:15:21.198532Z"
    },
    "papermill": {
     "duration": 8.507086,
     "end_time": "2023-01-20T21:15:21.204217",
     "exception": false,
     "start_time": "2023-01-20T21:15:12.697131",
     "status": "completed"
    },
    "tags": []
   },
   "outputs": [],
   "source": [
    "time = full_array_data_ts\n",
    "filtred_myo1 = []\n",
    "for i in range(8):\n",
    "    emg = [m[i] for m in full_array_data_myo]\n",
    "    emg_correctmean = emg - np.mean(emg)\n",
    "    filtred_myo1.append(filteremg1(time, emg_correctmean, low_pass=2))\n",
    "filtred_myo1 = np.array(filtred_myo1).T\n",
    "\n",
    "filtred_myo2 = []\n",
    "for i in range(8):\n",
    "    emg = [m[i] for m in full_array_data_myo]\n",
    "    emg_correctmean = emg - np.mean(emg)\n",
    "    filtred_myo2.append(filteremg1(time, emg_correctmean, low_pass=3))\n",
    "filtred_myo2 = np.array(filtred_myo2).T\n",
    "\n",
    "filtred_myo3 = []\n",
    "for i in range(8):\n",
    "    emg = [m[i] for m in full_array_data_myo]\n",
    "    emg_correctmean = emg - np.mean(emg)\n",
    "    filtred_myo3.append(filteremg1(time, emg_correctmean, low_pass=5))\n",
    "filtred_myo3 = np.array(filtred_myo3).T\n",
    "\n",
    "filtred_myo4 = []\n",
    "for i in range(8):\n",
    "    emg = [m[i] for m in full_array_data_myo]\n",
    "    emg_correctmean = emg - np.mean(emg)\n",
    "    filtred_myo4.append(filteremg1(time, emg_correctmean, low_pass=10))\n",
    "filtred_myo4 = np.array(filtred_myo4).T\n"
   ]
  },
  {
   "cell_type": "code",
   "execution_count": 5,
   "id": "20c8e725",
   "metadata": {
    "execution": {
     "iopub.execute_input": "2023-01-20T21:15:21.256146Z",
     "iopub.status.busy": "2023-01-20T21:15:21.255616Z",
     "iopub.status.idle": "2023-01-20T21:15:21.312490Z",
     "shell.execute_reply": "2023-01-20T21:15:21.311442Z"
    },
    "papermill": {
     "duration": 0.084425,
     "end_time": "2023-01-20T21:15:21.315032",
     "exception": false,
     "start_time": "2023-01-20T21:15:21.230607",
     "status": "completed"
    },
    "tags": []
   },
   "outputs": [],
   "source": [
    "myo_full = np.concatenate((filtred_myo1[:], filtred_myo2[:], filtred_myo3[:], filtred_myo4[:]))"
   ]
  },
  {
   "cell_type": "code",
   "execution_count": 6,
   "id": "8c6294a7",
   "metadata": {
    "execution": {
     "iopub.execute_input": "2023-01-20T21:15:21.335467Z",
     "iopub.status.busy": "2023-01-20T21:15:21.335179Z",
     "iopub.status.idle": "2023-01-20T21:15:21.445365Z",
     "shell.execute_reply": "2023-01-20T21:15:21.443523Z"
    },
    "papermill": {
     "duration": 0.122319,
     "end_time": "2023-01-20T21:15:21.446984",
     "exception": true,
     "start_time": "2023-01-20T21:15:21.324665",
     "status": "failed"
    },
    "tags": []
   },
   "outputs": [
    {
     "ename": "NameError",
     "evalue": "name 'finger_first_vr' is not defined",
     "output_type": "error",
     "traceback": [
      "\u001b[0;31m---------------------------------------------------------------------------\u001b[0m",
      "\u001b[0;31mNameError\u001b[0m                                 Traceback (most recent call last)",
      "\u001b[0;32m/tmp/ipykernel_23/3401154622.py\u001b[0m in \u001b[0;36m<module>\u001b[0;34m\u001b[0m\n\u001b[0;32m----> 1\u001b[0;31m \u001b[0mvr_full\u001b[0m \u001b[0;34m=\u001b[0m \u001b[0mnp\u001b[0m\u001b[0;34m.\u001b[0m\u001b[0mconcatenate\u001b[0m\u001b[0;34m(\u001b[0m\u001b[0;34m(\u001b[0m\u001b[0mfinger_first_vr\u001b[0m\u001b[0;34m[\u001b[0m\u001b[0;34m:\u001b[0m\u001b[0;34m]\u001b[0m\u001b[0;34m,\u001b[0m \u001b[0mfinger_first_vr\u001b[0m\u001b[0;34m[\u001b[0m\u001b[0;34m:\u001b[0m\u001b[0;34m]\u001b[0m\u001b[0;34m,\u001b[0m \u001b[0mfinger_first_vr\u001b[0m\u001b[0;34m[\u001b[0m\u001b[0;34m:\u001b[0m\u001b[0;34m]\u001b[0m\u001b[0;34m,\u001b[0m \u001b[0mfinger_first_vr\u001b[0m\u001b[0;34m[\u001b[0m\u001b[0;34m:\u001b[0m\u001b[0;34m]\u001b[0m\u001b[0;34m)\u001b[0m\u001b[0;34m)\u001b[0m\u001b[0;34m\u001b[0m\u001b[0;34m\u001b[0m\u001b[0m\n\u001b[0m",
      "\u001b[0;31mNameError\u001b[0m: name 'finger_first_vr' is not defined"
     ]
    }
   ],
   "source": [
    "vr_full = np.concatenate((finger_first_vr[:], finger_first_vr[:], finger_first_vr[:], finger_first_vr[:]))"
   ]
  },
  {
   "cell_type": "code",
   "execution_count": null,
   "id": "03542f3a",
   "metadata": {
    "execution": {
     "iopub.execute_input": "2023-01-20T19:16:25.777211Z",
     "iopub.status.busy": "2023-01-20T19:16:25.776856Z",
     "iopub.status.idle": "2023-01-20T19:16:25.783823Z",
     "shell.execute_reply": "2023-01-20T19:16:25.782621Z",
     "shell.execute_reply.started": "2023-01-20T19:16:25.777180Z"
    },
    "papermill": {
     "duration": null,
     "end_time": null,
     "exception": null,
     "start_time": null,
     "status": "pending"
    },
    "tags": []
   },
   "outputs": [],
   "source": [
    "len(a)"
   ]
  },
  {
   "cell_type": "code",
   "execution_count": null,
   "id": "2e72af91",
   "metadata": {
    "execution": {
     "iopub.execute_input": "2023-01-20T19:21:34.291805Z",
     "iopub.status.busy": "2023-01-20T19:21:34.291400Z",
     "iopub.status.idle": "2023-01-20T19:21:34.298507Z",
     "shell.execute_reply": "2023-01-20T19:21:34.297385Z",
     "shell.execute_reply.started": "2023-01-20T19:21:34.291767Z"
    },
    "papermill": {
     "duration": null,
     "end_time": null,
     "exception": null,
     "start_time": null,
     "status": "pending"
    },
    "tags": []
   },
   "outputs": [],
   "source": [
    "len(vr_full)"
   ]
  },
  {
   "cell_type": "code",
   "execution_count": null,
   "id": "d777911b",
   "metadata": {
    "execution": {
     "iopub.execute_input": "2023-01-20T19:21:09.206626Z",
     "iopub.status.busy": "2023-01-20T19:21:09.206257Z",
     "iopub.status.idle": "2023-01-20T19:21:13.835798Z",
     "shell.execute_reply": "2023-01-20T19:21:13.834750Z",
     "shell.execute_reply.started": "2023-01-20T19:21:09.206592Z"
    },
    "papermill": {
     "duration": null,
     "end_time": null,
     "exception": null,
     "start_time": null,
     "status": "pending"
    },
    "tags": []
   },
   "outputs": [],
   "source": [
    "finger_first_vr = []\n",
    "for i in trange(len(full_array_data_vr)):\n",
    "    curr = full_array_data_vr[i][4:64]\n",
    "    finger_first_vr.append(curr)"
   ]
  },
  {
   "cell_type": "code",
   "execution_count": null,
   "id": "b05dd1fc",
   "metadata": {
    "execution": {
     "iopub.execute_input": "2023-01-20T13:41:41.491354Z",
     "iopub.status.busy": "2023-01-20T13:41:41.490974Z",
     "iopub.status.idle": "2023-01-20T13:41:53.233294Z",
     "shell.execute_reply": "2023-01-20T13:41:53.232216Z",
     "shell.execute_reply.started": "2023-01-20T13:41:41.491319Z"
    },
    "papermill": {
     "duration": null,
     "end_time": null,
     "exception": null,
     "start_time": null,
     "status": "pending"
    },
    "tags": []
   },
   "outputs": [],
   "source": [
    "finger_first_vr = []\n",
    "finger_second_vr = []\n",
    "finger_third_vr = []\n",
    "finger_fourth_vr = []\n",
    "finger_fifth_vr = []\n",
    "for i in trange(len(full_array_data_vr)):\n",
    "    curr = full_array_data_vr[i][4:16]\n",
    "    finger_first_vr.append(curr)\n",
    "for i in trange(len(full_array_data_vr)):\n",
    "    curr = full_array_data_vr[i][16:28]\n",
    "    finger_second_vr.append(curr)\n",
    "for i in trange(len(full_array_data_vr)):\n",
    "    curr = full_array_data_vr[i][28:40]\n",
    "    finger_third_vr.append(curr)\n",
    "for i in trange(len(full_array_data_vr)):\n",
    "    curr = full_array_data_vr[i][40:52]\n",
    "    finger_fourth_vr.append(curr)\n",
    "for i in trange(len(full_array_data_vr)):\n",
    "    curr = full_array_data_vr[i][52:64]\n",
    "    finger_fifth_vr.append(curr)"
   ]
  },
  {
   "cell_type": "code",
   "execution_count": null,
   "id": "8e481908",
   "metadata": {
    "papermill": {
     "duration": null,
     "end_time": null,
     "exception": null,
     "start_time": null,
     "status": "pending"
    },
    "tags": []
   },
   "outputs": [],
   "source": [
    "# class TorchDataset(torch.utils.data.Dataset):\n",
    "    \n",
    "#     def __init__(self, x_data, y_data):\n",
    "#         self.x_data = x_data\n",
    "#         self.y_data = y_data\n",
    "        \n",
    "#     def __len__(self):\n",
    "#         return len(self.x_data)\n",
    "    \n",
    "#     def __getitem__(self, idx):\n",
    "#         return [torch.tensor(self.x_data[idx], dtype=torch.float), \n",
    "#             torch.tensor(self.y_data[idx], dtype=torch.float)]"
   ]
  },
  {
   "cell_type": "code",
   "execution_count": null,
   "id": "c6d34861",
   "metadata": {
    "papermill": {
     "duration": null,
     "end_time": null,
     "exception": null,
     "start_time": null,
     "status": "pending"
    },
    "tags": []
   },
   "outputs": [],
   "source": [
    "train_size = int(0.8 * len(full_array_data_myo))\n",
    "# train_set = TorchDataset(full_array_data_myo[:train_size], finger_first_vr[:train_size])\n",
    "# train_loader = torch.utils.data.DataLoader(train_set, batch_size = 1024, shuffle = True)\n",
    "\n",
    "# test_set = TorchDataset(full_array_data_myo[train_size:], finger_first_vr[train_size:])\n",
    "# test_loader = torch.utils.data.DataLoader(test_set, batch_size = 1024, shuffle = True)\n",
    "\n",
    "# X_train_tensors = Variable(torch.Tensor(full_array_data_myo[:train_size]))\n",
    "# y_train_tensors = Variable(torch.Tensor(finger_first_vr[:train_size]))\n",
    "# y_train_tensors = y_train_tensors.to(device)\n",
    "\n",
    "# X_test_tensors = Variable(torch.Tensor(full_array_data_myo[train_size:]))\n",
    "# y_test_tensors = Variable(torch.Tensor(finger_first_vr[train_size:]))\n",
    "# y_test_tensors = y_test_tensors.to(device)"
   ]
  },
  {
   "cell_type": "code",
   "execution_count": null,
   "id": "b6ed45c1",
   "metadata": {
    "papermill": {
     "duration": null,
     "end_time": null,
     "exception": null,
     "start_time": null,
     "status": "pending"
    },
    "tags": []
   },
   "outputs": [],
   "source": [
    "# X_train_tensors_final = torch.reshape(X_train_tensors,   (X_train_tensors.shape[0], 1, X_train_tensors.shape[1]))\n",
    "# X_train_tensors_final = X_train_tensors_final.to(device)\n",
    "\n",
    "# X_test_tensors_final = torch.reshape(X_test_tensors,  (X_test_tensors.shape[0], 1, X_test_tensors.shape[1])) \n",
    "# X_test_tensors_final = X_test_tensors_final.to(device)"
   ]
  },
  {
   "cell_type": "code",
   "execution_count": null,
   "id": "955d6ce9",
   "metadata": {
    "execution": {
     "iopub.execute_input": "2023-01-20T19:22:12.962652Z",
     "iopub.status.busy": "2023-01-20T19:22:12.962285Z",
     "iopub.status.idle": "2023-01-20T19:22:12.968669Z",
     "shell.execute_reply": "2023-01-20T19:22:12.967375Z",
     "shell.execute_reply.started": "2023-01-20T19:22:12.962618Z"
    },
    "papermill": {
     "duration": null,
     "end_time": null,
     "exception": null,
     "start_time": null,
     "status": "pending"
    },
    "tags": []
   },
   "outputs": [],
   "source": [
    "def set_random_seed(seed):\n",
    "    torch.backends.cudnn.deterministic = True\n",
    "    torch.manual_seed(seed)\n",
    "    torch.cuda.manual_seed(seed)\n",
    "    np.random.seed(seed)\n",
    "    random.seed(seed)\n",
    "set_random_seed(123456)"
   ]
  },
  {
   "cell_type": "code",
   "execution_count": null,
   "id": "a5cd0b16",
   "metadata": {
    "execution": {
     "iopub.execute_input": "2023-01-20T19:06:54.808619Z",
     "iopub.status.busy": "2023-01-20T19:06:54.808255Z",
     "iopub.status.idle": "2023-01-20T19:06:54.822144Z",
     "shell.execute_reply": "2023-01-20T19:06:54.820937Z",
     "shell.execute_reply.started": "2023-01-20T19:06:54.808586Z"
    },
    "papermill": {
     "duration": null,
     "end_time": null,
     "exception": null,
     "start_time": null,
     "status": "pending"
    },
    "tags": []
   },
   "outputs": [],
   "source": [
    "class LSTM1(nn.Module):\n",
    "    def __init__(self, num_classes, input_size, hidden_size, num_layers, seq_length):\n",
    "        super(LSTM1, self).__init__()\n",
    "        self.num_classes = num_classes #number of classes\n",
    "        self.num_layers = num_layers #number of layers\n",
    "        self.input_size = input_size #input size\n",
    "        self.hidden_size = hidden_size #hidden state\n",
    "        self.seq_length = seq_length #sequence length\n",
    "\n",
    "        self.lstm = nn.LSTM(input_size=input_size, hidden_size=hidden_size,\n",
    "                          num_layers=num_layers, batch_first=True) #lstm\n",
    "        self.fc_1 =  nn.Linear(hidden_size, 128) #fully connected 1\n",
    "        self.fc = nn.Linear(128, num_classes) #fully connected last layer\n",
    "\n",
    "        self.relu = nn.ReLU()\n",
    "    \n",
    "    def forward(self,x):\n",
    "        h_0 = Variable(torch.zeros(self.num_layers, x.size(0), self.hidden_size)) #hidden state\n",
    "        c_0 = Variable(torch.zeros(self.num_layers, x.size(0), self.hidden_size)) #internal state\n",
    "        \n",
    "        h_0 = h_0.to(device)\n",
    "        c_0 = c_0.to(device)\n",
    "        \n",
    "        # Propagate input through LSTM\n",
    "        output, (hn, cn) = self.lstm(x, (h_0, c_0)) #lstm with input, hidden, and internal state\n",
    "        hn = hn.view(-1, self.hidden_size) #reshaping the data for Dense layer next\n",
    "        out = self.relu(hn)\n",
    "        out = self.fc_1(out) #first Dense\n",
    "        out = self.relu(out) #relu\n",
    "        out = self.fc(out) #Final Output\n",
    "        return out"
   ]
  },
  {
   "cell_type": "code",
   "execution_count": null,
   "id": "3cef0e28",
   "metadata": {
    "execution": {
     "iopub.execute_input": "2023-01-20T19:22:28.813421Z",
     "iopub.status.busy": "2023-01-20T19:22:28.812854Z",
     "iopub.status.idle": "2023-01-20T19:22:28.818872Z",
     "shell.execute_reply": "2023-01-20T19:22:28.817893Z",
     "shell.execute_reply.started": "2023-01-20T19:22:28.813385Z"
    },
    "papermill": {
     "duration": null,
     "end_time": null,
     "exception": null,
     "start_time": null,
     "status": "pending"
    },
    "tags": []
   },
   "outputs": [],
   "source": [
    "num_epochs = 10000 #1000 epochs\n",
    "learning_rate = 0.01 #0.001 lr\n",
    "\n",
    "input_size = 8 #number of features\n",
    "hidden_size = 30 #number of features in hidden state\n",
    "num_layers = 1 #number of stacked lstm layers\n",
    "\n",
    "num_classes = 60 #number of output classes\n",
    "\n",
    "criterion = nn.MSELoss().to(device)"
   ]
  },
  {
   "cell_type": "code",
   "execution_count": null,
   "id": "53b2cffe",
   "metadata": {
    "execution": {
     "iopub.execute_input": "2023-01-20T19:22:32.157613Z",
     "iopub.status.busy": "2023-01-20T19:22:32.156637Z",
     "iopub.status.idle": "2023-01-20T19:22:32.165517Z",
     "shell.execute_reply": "2023-01-20T19:22:32.164415Z",
     "shell.execute_reply.started": "2023-01-20T19:22:32.157576Z"
    },
    "papermill": {
     "duration": null,
     "end_time": null,
     "exception": null,
     "start_time": null,
     "status": "pending"
    },
    "tags": []
   },
   "outputs": [],
   "source": [
    "def train_finger(model, optimizer, data_in, data_out):\n",
    "    \n",
    "    X_train_tensors = Variable(torch.Tensor(data_in))\n",
    "    X_train_tensors_final = torch.reshape(X_train_tensors,   (X_train_tensors.shape[0], 1, X_train_tensors.shape[1]))\n",
    "    X_train_tensors_final = X_train_tensors_final.to(device)\n",
    "    \n",
    "    y_train_tensors = Variable(torch.Tensor(data_out))\n",
    "    y_train_tensors = y_train_tensors.to(device)\n",
    "    \n",
    "    for epoch in range(num_epochs):\n",
    "        outputs = model.forward(X_train_tensors_final) #forward pass\n",
    "        optimizer.zero_grad() #caluclate the gradient, manually setting to 0\n",
    "        \n",
    "        # obtain the loss function\n",
    "        loss = criterion(outputs, y_train_tensors)\n",
    "        \n",
    "        loss.backward() #calculates the loss of the loss function\n",
    "        \n",
    "        optimizer.step() #improve from loss, i.e backprop\n",
    "        if epoch % 100 == 0:\n",
    "            print(\"Epoch: %d, loss: %1.5f\" % (epoch, loss.item()))\n"
   ]
  },
  {
   "cell_type": "code",
   "execution_count": null,
   "id": "3a6e64b1",
   "metadata": {
    "execution": {
     "iopub.execute_input": "2023-01-20T19:22:56.800170Z",
     "iopub.status.busy": "2023-01-20T19:22:56.799792Z",
     "iopub.status.idle": "2023-01-20T20:53:53.610653Z",
     "shell.execute_reply": "2023-01-20T20:53:53.609642Z",
     "shell.execute_reply.started": "2023-01-20T19:22:56.800138Z"
    },
    "papermill": {
     "duration": null,
     "end_time": null,
     "exception": null,
     "start_time": null,
     "status": "pending"
    },
    "tags": []
   },
   "outputs": [],
   "source": [
    "finger1 = LSTM1(num_classes, input_size, hidden_size, num_layers, 1) #our lstm class \n",
    "finger1 = finger1.to(device)\n",
    "optimizer = torch.optim.Adam(finger1.parameters(), lr = learning_rate)\n",
    "\n",
    "train_finger(finger1, optimizer, myo_full, vr_full)"
   ]
  },
  {
   "cell_type": "code",
   "execution_count": null,
   "id": "d7e830c3",
   "metadata": {
    "execution": {
     "iopub.execute_input": "2023-01-20T13:49:21.757394Z",
     "iopub.status.busy": "2023-01-20T13:49:21.756990Z",
     "iopub.status.idle": "2023-01-20T13:56:16.973278Z",
     "shell.execute_reply": "2023-01-20T13:56:16.972002Z",
     "shell.execute_reply.started": "2023-01-20T13:49:21.757357Z"
    },
    "papermill": {
     "duration": null,
     "end_time": null,
     "exception": null,
     "start_time": null,
     "status": "pending"
    },
    "tags": []
   },
   "outputs": [],
   "source": [
    "finger2 = LSTM1(num_classes, input_size, hidden_size, num_layers, 1) #our lstm class \n",
    "finger2 = finger2.to(device)\n",
    "optimizer = torch.optim.Adam(finger2.parameters(), lr = learning_rate)\n",
    "\n",
    "train_finger(finger2, optimizer, filtred_myo1, finger_second_vr)"
   ]
  },
  {
   "cell_type": "code",
   "execution_count": null,
   "id": "cd069a0b",
   "metadata": {
    "execution": {
     "iopub.execute_input": "2023-01-20T13:56:16.980452Z",
     "iopub.status.busy": "2023-01-20T13:56:16.977848Z",
     "iopub.status.idle": "2023-01-20T14:03:11.489246Z",
     "shell.execute_reply": "2023-01-20T14:03:11.488168Z",
     "shell.execute_reply.started": "2023-01-20T13:56:16.980415Z"
    },
    "papermill": {
     "duration": null,
     "end_time": null,
     "exception": null,
     "start_time": null,
     "status": "pending"
    },
    "tags": []
   },
   "outputs": [],
   "source": [
    "finger3 = LSTM1(num_classes, input_size, hidden_size, num_layers, 1) #our lstm class \n",
    "finger3 = finger2.to(device)\n",
    "optimizer = torch.optim.Adam(finger3.parameters(), lr = learning_rate)\n",
    "\n",
    "train_finger(finger3, optimizer, filtred_myo1, finger_third_vr)"
   ]
  },
  {
   "cell_type": "code",
   "execution_count": null,
   "id": "8dd201c4",
   "metadata": {
    "execution": {
     "iopub.execute_input": "2023-01-20T14:03:15.916371Z",
     "iopub.status.busy": "2023-01-20T14:03:15.915997Z",
     "iopub.status.idle": "2023-01-20T14:10:07.670605Z",
     "shell.execute_reply": "2023-01-20T14:10:07.669641Z",
     "shell.execute_reply.started": "2023-01-20T14:03:15.916333Z"
    },
    "papermill": {
     "duration": null,
     "end_time": null,
     "exception": null,
     "start_time": null,
     "status": "pending"
    },
    "tags": []
   },
   "outputs": [],
   "source": [
    "finger4 = LSTM1(num_classes, input_size, hidden_size, num_layers, 1) #our lstm class \n",
    "finger4 = finger4.to(device)\n",
    "optimizer = torch.optim.Adam(finger4.parameters(), lr = learning_rate)\n",
    "\n",
    "train_finger(finger4, optimizer, filtred_myo1, finger_fourth_vr)"
   ]
  },
  {
   "cell_type": "code",
   "execution_count": null,
   "id": "04c70977",
   "metadata": {
    "execution": {
     "iopub.execute_input": "2023-01-20T14:10:07.673160Z",
     "iopub.status.busy": "2023-01-20T14:10:07.672776Z",
     "iopub.status.idle": "2023-01-20T14:17:00.474983Z",
     "shell.execute_reply": "2023-01-20T14:17:00.473983Z",
     "shell.execute_reply.started": "2023-01-20T14:10:07.673123Z"
    },
    "papermill": {
     "duration": null,
     "end_time": null,
     "exception": null,
     "start_time": null,
     "status": "pending"
    },
    "tags": []
   },
   "outputs": [],
   "source": [
    "finger5 = LSTM1(num_classes, input_size, hidden_size, num_layers, 1) #our lstm class \n",
    "finger5 = finger5.to(device)\n",
    "optimizer = torch.optim.Adam(finger5.parameters(), lr = learning_rate)\n",
    "\n",
    "train_finger(finger5, optimizer, filtred_myo1, finger_fifth_vr)"
   ]
  },
  {
   "cell_type": "code",
   "execution_count": null,
   "id": "01de6d95",
   "metadata": {
    "execution": {
     "iopub.execute_input": "2023-01-20T20:53:53.613236Z",
     "iopub.status.busy": "2023-01-20T20:53:53.612857Z",
     "iopub.status.idle": "2023-01-20T20:53:53.620874Z",
     "shell.execute_reply": "2023-01-20T20:53:53.619574Z",
     "shell.execute_reply.started": "2023-01-20T20:53:53.613200Z"
    },
    "papermill": {
     "duration": null,
     "end_time": null,
     "exception": null,
     "start_time": null,
     "status": "pending"
    },
    "tags": []
   },
   "outputs": [],
   "source": [
    "def predict_Hand(model1, data):\n",
    "    X_train_tensors = Variable(torch.Tensor(data))\n",
    "    X_train_tensors_final = torch.reshape(X_train_tensors,   (1, 1, X_train_tensors.shape[0]))\n",
    "    X_train_tensors_final = X_train_tensors_final.to(device)\n",
    "    with torch.no_grad():\n",
    "        output1 = model1.forward(X_train_tensors_final)\n",
    "        output1[output1 < -1] = -1\n",
    "        output1[output1 > 1] = 1\n",
    "    curr_hand = np.array([0, 0, 0, -1])\n",
    "    pred = output1.cpu().numpy()\n",
    "    # pred = pred.reshape(16, 4)\n",
    "    \n",
    "    return np.append(curr_hand, [pred.reshape(-1)])"
   ]
  },
  {
   "cell_type": "code",
   "execution_count": null,
   "id": "74291265",
   "metadata": {
    "execution": {
     "iopub.execute_input": "2023-01-20T17:52:05.647738Z",
     "iopub.status.busy": "2023-01-20T17:52:05.647384Z",
     "iopub.status.idle": "2023-01-20T17:52:05.656874Z",
     "shell.execute_reply": "2023-01-20T17:52:05.655684Z",
     "shell.execute_reply.started": "2023-01-20T17:52:05.647708Z"
    },
    "papermill": {
     "duration": null,
     "end_time": null,
     "exception": null,
     "start_time": null,
     "status": "pending"
    },
    "tags": []
   },
   "outputs": [],
   "source": [
    "max(predict_Hand(finger1, full_array_data_myo[0]))"
   ]
  },
  {
   "cell_type": "code",
   "execution_count": null,
   "id": "33762366",
   "metadata": {
    "execution": {
     "iopub.execute_input": "2023-01-20T20:53:53.623042Z",
     "iopub.status.busy": "2023-01-20T20:53:53.622558Z",
     "iopub.status.idle": "2023-01-20T20:55:26.975117Z",
     "shell.execute_reply": "2023-01-20T20:55:26.974111Z",
     "shell.execute_reply.started": "2023-01-20T20:53:53.622888Z"
    },
    "papermill": {
     "duration": null,
     "end_time": null,
     "exception": null,
     "start_time": null,
     "status": "pending"
    },
    "tags": []
   },
   "outputs": [],
   "source": [
    "from pathlib import Path \n",
    "import numpy as np\n",
    "import pandas as pd\n",
    "\n",
    "\n",
    "def prepare_predictions_for_csv(list_predictions):\n",
    "    \"\"\"\n",
    "    [ [Time, 16, 4 ], ... ]\n",
    "    return np array with N values.  \n",
    "    \"\"\"\n",
    "    result = []\n",
    "    for pred in list_predictions: \n",
    "        pred = np.reshape(pred[::10], [-1])\n",
    "        result.extend(pred)\n",
    "    result = np.array(result)\n",
    "    return result\n",
    "\n",
    "\n",
    "\n",
    "# There are 00.npz, 01.npz, ...\n",
    "DATA_VAL_FOLDER = Path('/kaggle/input/alvi-hack-2023/data_submission/')\n",
    "\n",
    "# For each file with specific movement predict quaternions based on myo_data then stack it to list\n",
    "list_preds = []\n",
    "for p in sorted(DATA_VAL_FOLDER.glob('*.npz')):\n",
    "    file_data = np.load(p)\n",
    "    myo_data = file_data['data_myo']\n",
    "    \n",
    "    filtred_myo_test =[]\n",
    "\n",
    "    for i in range(8):\n",
    "        emg = [m[i] for m in myo_data]\n",
    "        emg_correctmean = emg - np.mean(emg)\n",
    "        filtred_myo_test.append(filteremg1(time, emg_correctmean, low_pass=3))\n",
    "    filtred_myo_test = np.array(filtred_myo_test).T\n",
    "    \n",
    "    preds = []\n",
    "    for curr in filtred_myo_test:\n",
    "        predict = predict_Hand(finger1, curr)\n",
    "        preds.append(predict)\n",
    "    \n",
    "    # Put it to common list\n",
    "    list_preds.append(preds)\n",
    "    \n",
    "np.savez('predict_lstm_f3_minus.npz', list_preds)\n",
    "dummy_pred = prepare_predictions_for_csv(list_preds)\n",
    "\n",
    "# There are must be two columns with header Id,Expected\n",
    "df = pd.DataFrame({'Predicted': dummy_pred})\n",
    "\n",
    "\n",
    "df.to_csv('submission_lstm_f3_minus.csv', index_label = 'Id')"
   ]
  },
  {
   "cell_type": "code",
   "execution_count": null,
   "id": "749fcbd7",
   "metadata": {
    "execution": {
     "iopub.execute_input": "2023-01-20T21:01:05.127368Z",
     "iopub.status.busy": "2023-01-20T21:01:05.126999Z",
     "iopub.status.idle": "2023-01-20T21:01:06.066756Z",
     "shell.execute_reply": "2023-01-20T21:01:06.065602Z",
     "shell.execute_reply.started": "2023-01-20T21:01:05.127335Z"
    },
    "papermill": {
     "duration": null,
     "end_time": null,
     "exception": null,
     "start_time": null,
     "status": "pending"
    },
    "tags": []
   },
   "outputs": [],
   "source": [
    "import numpy as np \n",
    "import pandas as pd \n",
    "from pathlib import Path\n",
    "import json\n",
    "import matplotlib.pyplot as plt\n",
    "from mpl_toolkits.mplot3d import Axes3D\n",
    "from scipy.spatial.transform import Rotation as R\n",
    "from matplotlib.animation import PillowWriter\n",
    "from matplotlib import animation\n",
    "from IPython import display\n",
    "import wandb\n",
    "from pathlib import Path"
   ]
  },
  {
   "cell_type": "code",
   "execution_count": null,
   "id": "2272f3e7",
   "metadata": {
    "execution": {
     "iopub.execute_input": "2023-01-20T21:01:29.120537Z",
     "iopub.status.busy": "2023-01-20T21:01:29.120143Z",
     "iopub.status.idle": "2023-01-20T21:01:29.160668Z",
     "shell.execute_reply": "2023-01-20T21:01:29.159735Z",
     "shell.execute_reply.started": "2023-01-20T21:01:29.120497Z"
    },
    "papermill": {
     "duration": null,
     "end_time": null,
     "exception": null,
     "start_time": null,
     "status": "pending"
    },
    "tags": []
   },
   "outputs": [],
   "source": [
    "json_path = 'big_global_data.json'\n",
    "name_to_color = {'thumb': 'red',\n",
    "                 'index': 'blue',\n",
    "                 'middle': 'green',\n",
    "                 'ring': 'orange',\n",
    "                 'pinky': 'pink'}\n",
    "\n",
    "# with open(json_path, 'r') as f:\n",
    "#     json_dict = json.load(f)\n",
    "\n",
    "def multiply_quant(q1, q2):\n",
    "    r1 = R.from_quat(q1)\n",
    "    r2 = R.from_quat(q2)\n",
    "    return (r1 * r2).as_quat()\n",
    "def apply_quat(q, v):\n",
    "    return R.from_quat(q).apply(v)\n",
    "\n",
    "def get_finger_vecs_custom(hand_data, finger_start_pose, name):\n",
    "    e = np.array([1, 0, 0])\n",
    "    \n",
    "    \n",
    "    quat1 = hand_dict['b_r_wrist']\n",
    "    \n",
    "    quat2 = hand_dict[f'b_r_{name}1']\n",
    "    quat3 = hand_dict[f'b_r_{name}2']\n",
    "    quat4  = hand_dict[f'b_r_{name}3']\n",
    "    \n",
    "    quat1_inv = R.from_quat(quat1).inv().as_quat()\n",
    "    \n",
    "    \n",
    "    quats = [quat1, quat2, quat3, quat4]\n",
    "    quats = [multiply_quant(quat1_inv, q) for q in quats]\n",
    "    \n",
    "    t_vecs = [apply_quat(q, e) for q in quats] \n",
    "\n",
    "    prev = np.array(finger_start_pose[name])\n",
    "    \n",
    "    prev = apply_quat(quat1_inv, prev)\n",
    "\n",
    "    \n",
    "    t_vecs = [v * np.linalg.norm(prev)/2 for v in t_vecs]\n",
    "\n",
    "    \n",
    "    # get sequential summation of the vectors.\n",
    "    t_vecs_new =[]\n",
    "\n",
    "    t_vecs_new.append(prev)\n",
    "    for v in t_vecs[1:]:\n",
    "        prev = prev + v\n",
    "        t_vecs_new.append(prev)\n",
    "    \n",
    "    t_vecs_new = np.stack(t_vecs_new)\n",
    "    return t_vecs_new\n",
    "\n",
    "\n",
    "\n",
    "\n",
    "\n",
    "    \n",
    "def inverse_rotations(sample):\n",
    "\n",
    "\n",
    "    ### normalisation if needed.\n",
    "    quat_base = sample[0]\n",
    "    quat_base_inv = R.from_quat(quat_base).inv().as_quat()\n",
    "\n",
    "    quats_new = [multiply_quant(quat_base_inv, q) for q in sample]\n",
    "    quats_new = np.stack(quats_new)\n",
    "\n",
    "    return quats_new\n",
    "\n",
    "\n",
    "\n",
    "\n",
    "class Hand:\n",
    "    \"\"\"\n",
    "    Allows to get slice of Hand parameters.\n",
    "    \n",
    "    \"\"\"\n",
    "    name_to_idx = {\"b_r_wrist\": 0, \"b_r_index1\": 1,\n",
    "                   \"b_r_index2\": 2, \"b_r_index3\": 3,\n",
    "                   \"b_r_middle1\": 4, \"b_r_middle2\": 5,\n",
    "                   \"b_r_middle3\": 6, \"b_r_pinky1\": 7,\n",
    "                   \"b_r_pinky2\" : 8, \"b_r_pinky3\": 9,\n",
    "                   \"b_r_ring1\": 10, \"b_r_ring2\": 11,\n",
    "                   \"b_r_ring3\": 12, \"b_r_thumb1\": 13,\n",
    "                   \"b_r_thumb2\": 14, \"b_r_thumb3\": 15}\n",
    "\n",
    "    idx_to_name = {0: \"b_r_wrist\", 1: \"b_r_index1\",\n",
    "               2: \"b_r_index2\", 3: \"b_r_index3\",\n",
    "               4: \"b_r_middle1\", 5: \"b_r_middle2\",\n",
    "               6: \"b_r_middle3\", 7: \"b_r_pinky1\",\n",
    "               8: \"b_r_pinky2\", 9: \"b_r_pinky3\",\n",
    "               10: \"b_r_ring1\", 11: \"b_r_ring2\",\n",
    "               12: \"b_r_ring3\", 13: \"b_r_thumb1\",\n",
    "               14: \"b_r_thumb2\", 15: \"b_r_thumb3\"}\n",
    "    \n",
    "    \n",
    "    # normalize start point of hand\n",
    "    \n",
    "    finger_start_pose = {'thumb': np.array([ 1.79773151e-04, -9.56848596e-05,  1.40103373e-04]),\n",
    "                         'index': np.array([ 4.79965970e-04, -3.64983564e-05,  1.17722357e-04]),\n",
    "                         'middle': np.array([ 4.78224132e-04, -1.26683160e-05,  8.61489718e-06]),\n",
    "                         'ring': np.array([ 4.43463102e-04, -3.26179546e-05, -8.73337173e-05]),\n",
    "                         'pinky': np.array([ 3.89465811e-04, -6.83795585e-05, -1.75300101e-04])}\n",
    "    \n",
    "    \n",
    "    finger_names = ['thumb', 'index', 'middle', 'ring', 'pinky']\n",
    "    name_to_color = {'thumb': 'red',\n",
    "                 'index': 'blue',\n",
    "                 'middle': 'green',\n",
    "                 'ring': 'orange',\n",
    "                 'pinky': 'pink'}\n",
    "    # init method or constructor \n",
    "    def __init__(self, data, hand_type='right'):\n",
    "        \"\"\"\n",
    "        \n",
    "        data - [frames, n_bones, 4] rotations\n",
    "        \"\"\"\n",
    "        self.hand_type = hand_type\n",
    "        \n",
    "        self.azim, self.elev = -270, -220\n",
    "        self.data = data\n",
    "        self.all_points  = [] # N, 5, 4, 3 \n",
    "#         self.points = for\n",
    "    \n",
    "    def get_rotations(self, i):\n",
    "        \n",
    "        sample = self.data[i]\n",
    "        \n",
    "        \n",
    "        ### normalisation if needed.\n",
    "        quat_base = sample[self.name_to_idx['b_r_wrist']]\n",
    "        quat_base_inv = R.from_quat(quat_base).inv().as_quat()\n",
    "        \n",
    "        quats_new = [multiply_quant(quat_base_inv, q) for q in sample]\n",
    "        quats_new = np.stack(quats_new)\n",
    "        \n",
    "        return quats_new\n",
    "        \n",
    "    def get_frame_points(self, idx):\n",
    "        points = []\n",
    "        for name in self.finger_names:\n",
    "            tmp = self.get_one_finger_points(idx, name)\n",
    "            points.append(tmp)\n",
    "        return points\n",
    "        \n",
    "    \n",
    "    def get_one_finger_points(self,idx, name):\n",
    "    \n",
    "        sample = self.get_rotations(idx)\n",
    "        \n",
    "        quat1 = sample[self.name_to_idx['b_r_wrist']]\n",
    "        quat2 = sample[self.name_to_idx[f'b_r_{name}1']]\n",
    "        quat3 = sample[self.name_to_idx[f'b_r_{name}2']]\n",
    "        quat4  = sample[self.name_to_idx[f'b_r_{name}3']]\n",
    "\n",
    "        quats = [quat1, quat2, quat3, quat4]\n",
    "        \n",
    "        e = np.array([1, 0, 0])\n",
    "        \n",
    "        t_vecs = [apply_quat(q, e) for q in quats]\n",
    "        prev = np.array(self.finger_start_pose[name])\n",
    "        t_vecs = [v * np.linalg.norm(prev)/2 for v in t_vecs]\n",
    "\n",
    "        # get sequential summation of the vectors.\n",
    "        t_vecs_new =[]\n",
    "\n",
    "        t_vecs_new.append(prev)\n",
    "        for v in t_vecs[1:]:\n",
    "            prev = prev + v\n",
    "            t_vecs_new.append(prev)\n",
    "\n",
    "        t_vecs_new = np.stack(t_vecs_new)\n",
    "        return t_vecs_new\n",
    "        \n",
    "    def convert_all_frames_to_points(self):\n",
    "        self.all_points = [self.get_frame_points(n) for n in range(len(self))]\n",
    "    \n",
    "    \n",
    "    \n",
    "#     def fast_animation(self):\n",
    "        \n",
    "        \n",
    "        \n",
    "    def __len__(self):\n",
    "        return len(self.data)\n",
    "    \n",
    "    def init_3dplot(self):\n",
    "\n",
    "        fig = plt.figure(figsize = (5, 5))\n",
    "        ax = Axes3D(fig)\n",
    "        ax.view_init(azim=self.azim, elev=self.elev)\n",
    "        \n",
    "        return fig, ax\n",
    "\n",
    "    \n",
    "    def visualize_one_frame(self, idx, fig=None):\n",
    "        \"\"\"\n",
    "        Fig is not None for animation only.\n",
    "        \"\"\"\n",
    "\n",
    "        animate = False if fig is None else True\n",
    "        if animate:\n",
    "            ax = fig.axes[0]\n",
    "        else:\n",
    "            fig, ax = self.init_3dplot()\n",
    "        \n",
    "        plt.axis('off')\n",
    "        lim = 0.0008\n",
    "        ax.set_xlim(-lim/4, 2*lim)\n",
    "        ax.set_ylim(-lim/2,lim/2)\n",
    "        ax.set_zlim(-lim/2,lim/2)\n",
    "        \n",
    "        \n",
    "        points = self.get_frame_points(idx)\n",
    "        \n",
    "        ## wrist position\n",
    "        ax.scatter(0, 0, 0, s = 100, c = 'black', marker = '*')\n",
    "        \n",
    "        for i, finger_points in enumerate(points):\n",
    "            x, y, z = finger_points[:, 0], finger_points[:, 1], -finger_points[:, 2]\n",
    "            \n",
    "            ax.scatter(x, y, z, c = name_to_color[self.finger_names[i]], s = 150)\n",
    "            ax.plot([0, *x], [0, *y], [0, *z], \n",
    "                    color =name_to_color[self.finger_names[i]], \n",
    "                    linewidth=4)\n",
    "\n",
    "        \n",
    "        if not animate:\n",
    "            return fig\n",
    "        \n",
    "    \n",
    "    \n",
    "    def visualize_all_frames(self):\n",
    "        fig, ax = self.init_3dplot()\n",
    "        \n",
    "        def animate(i):\n",
    "            plt.cla()\n",
    "            value_points = self.visualize_one_frame(i, fig) \n",
    "        \n",
    "        anim = animation.FuncAnimation(fig, animate, interval=1, frames =len(self), repeat=True, )\n",
    "        \n",
    "        return anim\n",
    "    \n",
    "    \n",
    "\n",
    "    \n",
    "def save_animation(anim, path, fps =  30):    \n",
    "    writergif = animation.PillowWriter(fps=fps) \n",
    "    anim.save(path, writer=writergif)\n",
    "    plt.close()        \n",
    "\n",
    "    \n",
    "def save_animation_mp4(anim, path, fps):\n",
    "    FFwriter = animation.FFMpegWriter(fps=fps)\n",
    "    anim.save(path, writer = FFwriter)\n",
    "        \n",
    "def visualize_val_moves(model, val_exps_data, epoch, device, window_size = 512):\n",
    "    old_fps = 200\n",
    "    new_fps = 20\n",
    "    step = old_fps//new_fps\n",
    "    \n",
    "    for n, raw_data in enumerate(val_exps_data):\n",
    "        \n",
    "        x, y = raw_data['data_myo'][:window_size], raw_data['data_vr'][:window_size]\n",
    "        \n",
    "        y_pred = model.inference(x, device)\n",
    "\n",
    "        hand_gt = Hand(y[-256::step])\n",
    "        hand_pred = Hand(y_pred[-256::step])\n",
    "        \n",
    "        gt_path = f'{wandb.run.dir}/videos/{n}_move/true_sample_{epoch}.gif'\n",
    "        pred_path = f'{wandb.run.dir}/videos/{n}_move/pred_sample_{epoch}.gif'\n",
    "        Path(gt_path).parent.mkdir(parents=True, exist_ok=True)\n",
    "\n",
    "        plt.close()\n",
    "        ani_gt = hand_gt.visualize_all_frames()\n",
    "        save_animation(ani_gt, gt_path, fps = new_fps)\n",
    "        \n",
    "        plt.close()\n",
    "        ani_pred = hand_pred.visualize_all_frames()\n",
    "        save_animation(ani_pred, pred_path, fps = new_fps)\n",
    "\n",
    "        \n",
    "        wandb.log({f\"visualization/{n}_move\": [wandb.Video(gt_path, fps=new_fps), \n",
    "                                               wandb.Video(pred_path, fps=new_fps)]})\n",
    "        del hand_gt\n",
    "        del hand_pred"
   ]
  },
  {
   "cell_type": "code",
   "execution_count": null,
   "id": "c6199c53",
   "metadata": {
    "execution": {
     "iopub.execute_input": "2023-01-20T21:02:08.486906Z",
     "iopub.status.busy": "2023-01-20T21:02:08.486283Z",
     "iopub.status.idle": "2023-01-20T21:02:10.699773Z",
     "shell.execute_reply": "2023-01-20T21:02:10.698794Z",
     "shell.execute_reply.started": "2023-01-20T21:02:08.486868Z"
    },
    "papermill": {
     "duration": null,
     "end_time": null,
     "exception": null,
     "start_time": null,
     "status": "pending"
    },
    "tags": []
   },
   "outputs": [],
   "source": [
    "with np.load('/kaggle/working/predict_lstm_f3_minus.npz', allow_pickle=True) as data:\n",
    "    data_vr = np.array(data['arr_0'][0])\n",
    "    data_vr_viz = []\n",
    "    for i in range(len(data_vr)):\n",
    "        data_vr_viz.append(np.array(data_vr[i]).reshape(16, 4))\n",
    "    target_hand = Hand(data_vr_viz[::1])"
   ]
  },
  {
   "cell_type": "code",
   "execution_count": null,
   "id": "5e2a58fd",
   "metadata": {
    "execution": {
     "iopub.execute_input": "2023-01-20T21:03:27.504544Z",
     "iopub.status.busy": "2023-01-20T21:03:27.503574Z",
     "iopub.status.idle": "2023-01-20T21:03:48.733641Z",
     "shell.execute_reply": "2023-01-20T21:03:48.732590Z",
     "shell.execute_reply.started": "2023-01-20T21:03:27.504505Z"
    },
    "papermill": {
     "duration": null,
     "end_time": null,
     "exception": null,
     "start_time": null,
     "status": "pending"
    },
    "tags": []
   },
   "outputs": [],
   "source": [
    "output_folder = Path(f\"/kaggle/working/figures/\")\n",
    "output_folder.mkdir(parents=True, exist_ok=True)\n",
    "\n",
    "prefix_name = f\"one_moves_fps_{30}\"\n",
    "\n",
    "target_hand = Hand(data_vr_viz[::30])\n",
    "target_hand_anim = target_hand.visualize_all_frames()\n",
    "targets_path = output_folder / f\"{prefix_name}.mp4\"\n",
    "\n",
    "save_animation_mp4(target_hand_anim, targets_path, fps=30)"
   ]
  },
  {
   "cell_type": "code",
   "execution_count": null,
   "id": "651f469b",
   "metadata": {
    "execution": {
     "iopub.execute_input": "2023-01-20T21:08:22.620761Z",
     "iopub.status.busy": "2023-01-20T21:08:22.620349Z",
     "iopub.status.idle": "2023-01-20T21:08:22.890177Z",
     "shell.execute_reply": "2023-01-20T21:08:22.889067Z",
     "shell.execute_reply.started": "2023-01-20T21:08:22.620725Z"
    },
    "papermill": {
     "duration": null,
     "end_time": null,
     "exception": null,
     "start_time": null,
     "status": "pending"
    },
    "tags": []
   },
   "outputs": [],
   "source": [
    "target_hand.visualize_one_frame(150)"
   ]
  }
 ],
 "metadata": {
  "kernelspec": {
   "display_name": "Python 3",
   "language": "python",
   "name": "python3"
  },
  "language_info": {
   "codemirror_mode": {
    "name": "ipython",
    "version": 3
   },
   "file_extension": ".py",
   "mimetype": "text/x-python",
   "name": "python",
   "nbconvert_exporter": "python",
   "pygments_lexer": "ipython3",
   "version": "3.7.12"
  },
  "papermill": {
   "default_parameters": {},
   "duration": 41.584233,
   "end_time": "2023-01-20T21:15:23.580136",
   "environment_variables": {},
   "exception": true,
   "input_path": "__notebook__.ipynb",
   "output_path": "__notebook__.ipynb",
   "parameters": {},
   "start_time": "2023-01-20T21:14:41.995903",
   "version": "2.3.4"
  }
 },
 "nbformat": 4,
 "nbformat_minor": 5
}
